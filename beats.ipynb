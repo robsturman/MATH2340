{
 "cells": [
  {
   "cell_type": "markdown",
   "metadata": {},
   "source": [
    "## Notebook to play single frequencies and intervals of two pitches"
   ]
  },
  {
   "cell_type": "markdown",
   "metadata": {},
   "source": [
    "To execute each cell, press \"Ctrl-Enter\". The first just loads in some external libraries we need."
   ]
  },
  {
   "cell_type": "code",
   "execution_count": 2,
   "metadata": {},
   "outputs": [],
   "source": [
    "%matplotlib inline\n",
    "import matplotlib.pyplot as plt\n",
    "import numpy as np\n",
    "from ipywidgets import interactive, interact\n",
    "import ipywidgets as widg\n",
    "from IPython.display import Audio, display"
   ]
  },
  {
   "cell_type": "markdown",
   "metadata": {},
   "source": [
    "The next function just plays a single tone of a set frequency. You can change the frequency by dragging the slider, or using left and right cursors. Play the tone by clicking the play button."
   ]
  },
  {
   "cell_type": "code",
   "execution_count": 3,
   "metadata": {},
   "outputs": [
    {
     "data": {
      "application/vnd.jupyter.widget-view+json": {
       "model_id": "4ae8434d5db447659a4a7bbcabbd77e5",
       "version_major": 2,
       "version_minor": 0
      },
      "text/plain": [
       "interactive(children=(IntSlider(value=440, description='f', max=800, min=200), Output()), _dom_classes=('widge…"
      ]
     },
     "metadata": {},
     "output_type": "display_data"
    }
   ],
   "source": [
    "@interact(f=widg.IntSlider(min=200, max=800, step=1,value=440))\n",
    "def single_frequency(f):\n",
    "    max_time = 3\n",
    "    rate = 10**4\n",
    "    times = np.linspace(0,max_time,rate*max_time)\n",
    "    signal = np.sin(2*np.pi*f*times)\n",
    "    display(Audio(data=signal, rate=rate))\n",
    "    return None"
   ]
  },
  {
   "cell_type": "markdown",
   "metadata": {},
   "source": [
    "The next function plays two tones simultaneously. The Pythagorean principle is that consonant, harmonious sounds result from choosing frequencies whose ratios are equal to low integer ratios, like 660/440 = 3/2. "
   ]
  },
  {
   "cell_type": "code",
   "execution_count": 4,
   "metadata": {},
   "outputs": [
    {
     "data": {
      "application/vnd.jupyter.widget-view+json": {
       "model_id": "7a466dbbdaa8493db4c61bb83c6ea906",
       "version_major": 2,
       "version_minor": 0
      },
      "text/plain": [
       "interactive(children=(IntSlider(value=440, description='f1', max=3000, min=200), IntSlider(value=660, descript…"
      ]
     },
     "metadata": {},
     "output_type": "display_data"
    }
   ],
   "source": [
    "@interact(f1=widg.IntSlider(min=200, max=3000, step=1,value=440),\n",
    "          f2=widg.IntSlider(min=200, max=3000, step=1,value=660))\n",
    "def interval(f1,f2):\n",
    "    max_time = 5\n",
    "    rate = 10**4\n",
    "    times = np.linspace(0,max_time,rate*max_time)\n",
    "    signal = np.sin(2*np.pi*f1*times) + np.sin(2*np.pi*f2*times)\n",
    "    display(Audio(data=signal, rate=rate))\n",
    "    return None"
   ]
  },
  {
   "cell_type": "markdown",
   "metadata": {},
   "source": [
    "The next function is the same, but includes a plot of the sum of the two constituent sine waves. You can change the range of the plot to see the periodicity of the resultant wave. "
   ]
  },
  {
   "cell_type": "code",
   "execution_count": 5,
   "metadata": {},
   "outputs": [
    {
     "data": {
      "application/vnd.jupyter.widget-view+json": {
       "model_id": "1e5b0b96fa344accab955371adefe26c",
       "version_major": 2,
       "version_minor": 0
      },
      "text/plain": [
       "interactive(children=(IntSlider(value=440, description='f1', max=800, min=200), IntSlider(value=660, descripti…"
      ]
     },
     "metadata": {},
     "output_type": "display_data"
    }
   ],
   "source": [
    "@interact(f1=widg.IntSlider(min=200, max=800, step=1,value=440),\n",
    "          f2=widg.IntSlider(min=200, max=800, step=1,value=660),\n",
    "          plotrange=widg.IntText(value=200))\n",
    "def interval(f1,f2,plotrange):\n",
    "    max_time = 5\n",
    "    rate = 10**4\n",
    "    times = np.linspace(0,max_time,rate*max_time)\n",
    "    signal = np.sin(2*np.pi*f1*times) + np.sin(2*np.pi*f2*times)\n",
    "    plt.plot(times[:plotrange],signal[:plotrange]);\n",
    "    display(Audio(data=signal, rate=rate))\n",
    "    return None"
   ]
  },
  {
   "cell_type": "code",
   "execution_count": null,
   "metadata": {},
   "outputs": [],
   "source": []
  }
 ],
 "metadata": {
  "kernelspec": {
   "display_name": "Python 3",
   "language": "python",
   "name": "python3"
  },
  "language_info": {
   "codemirror_mode": {
    "name": "ipython",
    "version": 3
   },
   "file_extension": ".py",
   "mimetype": "text/x-python",
   "name": "python",
   "nbconvert_exporter": "python",
   "pygments_lexer": "ipython3",
   "version": "3.7.2"
  }
 },
 "nbformat": 4,
 "nbformat_minor": 2
}
